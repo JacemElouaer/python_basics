{
 "cells": [
  {
   "cell_type": "code",
   "execution_count": null,
   "id": "79bc76d7",
   "metadata": {},
   "outputs": [],
   "source": [
    "#1.2\n",
    "import datetime  \n",
    "now_year =  datetime.datetime.now().year\n",
    "test = False\n",
    "\n",
    "while(test==False):\n",
    "    birth_y = int(input(\"donner ton date de naissance : \")) \n",
    "    if(now_year < birth_y):\n",
    "        pass\n",
    "    else:\n",
    "        test=True\n",
    "    print(now_year-birth_y)   \n",
    "    \n",
    "\n",
    "\n"
   ]
  },
  {
   "cell_type": "code",
   "execution_count": 3,
   "id": "1e857042",
   "metadata": {},
   "outputs": [
    {
     "name": "stdout",
     "output_type": "stream",
     "text": [
      "donner le radion du cercle : 15\n",
      "706.8583470577034\n",
      "706.8583470577034\n"
     ]
    }
   ],
   "source": [
    "#1.3\n",
    "import math \n",
    "radius=float(input(\"donner le radion du cercle : \")) \n",
    "print(pow(radius,2)*math.pi) \n",
    "\n",
    "print(radius*radius*math.pi) "
   ]
  },
  {
   "cell_type": "code",
   "execution_count": 1,
   "id": "9660cedb",
   "metadata": {},
   "outputs": [
    {
     "name": "stdout",
     "output_type": "stream",
     "text": [
      "3\n"
     ]
    }
   ],
   "source": [
    "f = 3.125121 \n",
    "print(int(f))"
   ]
  },
  {
   "cell_type": "code",
   "execution_count": null,
   "id": "5aba1df5",
   "metadata": {},
   "outputs": [],
   "source": []
  },
  {
   "cell_type": "code",
   "execution_count": 3,
   "id": "d130ec28",
   "metadata": {},
   "outputs": [
    {
     "name": "stdout",
     "output_type": "stream",
     "text": [
      "donner un non de fichier : index.html\n",
      "html\n"
     ]
    }
   ],
   "source": [
    "#1.4\n",
    "test = False\n",
    "while(test==False):\n",
    "    filename =  input(\"donner un non de fichier : \")  \n",
    "    if(filename[0]==\".\"): \n",
    "        test=False\n",
    "    else :\n",
    "        parts=filename.split(\".\",1) \n",
    "        test=True\n",
    "print(parts[1])"
   ]
  },
  {
   "cell_type": "code",
   "execution_count": null,
   "id": "af7a7d80",
   "metadata": {},
   "outputs": [],
   "source": [
    "#1.5\n",
    "rw_string=  input('donner la chaine !')  \n",
    "test = False\n",
    "while(not test): \n",
    "    sub_string=  input('donner une substring !') \n",
    "    if len(sub_string)> len(rw_string): \n",
    "        test=False \n",
    "    else : \n",
    "        test=True \n",
    "if sub_string in rw_string: \n",
    "    print(rw_string.rfind(sub_string))\n",
    "else : \n",
    "    print(\"i cannot find the sub_string\")"
   ]
  },
  {
   "cell_type": "code",
   "execution_count": 2,
   "id": "25f20e6b",
   "metadata": {},
   "outputs": [
    {
     "name": "stdout",
     "output_type": "stream",
     "text": [
      "donner 1 entier !1200\n",
      "donner 2 entier !12\n",
      "produit est 14400\n"
     ]
    }
   ],
   "source": [
    "#11.1\n",
    "n_1=  int(input('donner 1 entier !'))\n",
    "n_2=  int(input('donner 2 entier !')) \n",
    "if(n_1*n_2 > 1000):\n",
    "    print(\"produit est {}\".format(n_1*n_2)) \n",
    "else :\n",
    "    print(\"somme est :\"+str(n_1+n_2))"
   ]
  },
  {
   "cell_type": "code",
   "execution_count": 3,
   "id": "4021cb75",
   "metadata": {},
   "outputs": [
    {
     "name": "stdout",
     "output_type": "stream",
     "text": [
      "donner 1 entier !1\n",
      "donner 2 entier !23\n",
      "donner 3 entier !5\n",
      "scalene\n"
     ]
    }
   ],
   "source": [
    "#11.2\n",
    "n_1=  int(input('donner 1 entier !'))\n",
    "n_2=  int(input('donner 2 entier !')) \n",
    "n_3=  int(input('donner 3 entier !')) \n",
    "if(n_1==n_2==n_3): \n",
    "    print(\"isocele\")\n",
    "elif(n_1==n_2 or n_1==n_3 or n_2==n_3): \n",
    "    print(\"equilaterale\") \n",
    "else : \n",
    "    print(\"scalene\")\n",
    "    \n",
    "    "
   ]
  },
  {
   "cell_type": "code",
   "execution_count": 4,
   "id": "b83ddc1a",
   "metadata": {},
   "outputs": [
    {
     "name": "stdout",
     "output_type": "stream",
     "text": [
      "donner un entier5\n",
      "the factorial is  120\n",
      "donner un entier5\n",
      "the factorial is  120\n"
     ]
    }
   ],
   "source": [
    "#111.1 \n",
    "import math  \n",
    "print(\"the factorial is \" , math.factorial(int(input(\"donner un entier\")))) \n",
    "n_f = int(input(\"donner un entier\"))  \n",
    "rs_f=1\n",
    "\n",
    "#***********   \n",
    "\n",
    "\n",
    "for i in  range (1,n_f+1): \n",
    "    rs_f *= i\n",
    "print(\"the factorial is \" , rs_f)"
   ]
  },
  {
   "cell_type": "code",
   "execution_count": 8,
   "id": "84c149d6",
   "metadata": {},
   "outputs": [
    {
     "name": "stdout",
     "output_type": "stream",
     "text": [
      "display all palindromic between 100 and 999\n",
      "[101, 111, 121, 131, 141, 151, 161, 171, 181, 191, 202, 212, 222, 232, 242, 252, 262, 272, 282, 292, 303, 313, 323, 333, 343, 353, 363, 373, 383, 393, 404, 414, 424, 434, 444, 454, 464, 474, 484, 494, 505, 515, 525, 535, 545, 555, 565, 575, 585, 595, 606, 616, 626, 636, 646, 656, 666, 676, 686, 696, 707, 717, 727, 737, 747, 757, 767, 777, 787, 797, 808, 818, 828, 838, 848, 858, 868, 878, 888, 898, 909, 919, 929, 939, 949, 959, 969, 979, 989, 999]\n",
      "True\n"
     ]
    }
   ],
   "source": [
    "#111.2 \n",
    "print(\"display all palindromic between 100 and 999\")  \n",
    "liste_pal = []\n",
    "for i in range (100, 1000 , 100): \n",
    "    n = i/100 + i \n",
    "    liste =  [int(n+j*10) for j in range (0,10)] \n",
    "    liste_pal.extend(liste)\n",
    "print(liste_pal)\n",
    " \n",
    "    \n",
    "#*********************    \n",
    "    \n",
    "    \n",
    "liste=[]\n",
    "for i in range(100,1000):\n",
    "    if str(i)[0]==str(i)[2]:\n",
    "        liste.append(i)\n",
    "print(sum(liste)==sum(liste_pal))    "
   ]
  },
  {
   "cell_type": "code",
   "execution_count": 28,
   "id": "eb7a7649",
   "metadata": {},
   "outputs": [
    {
     "name": "stdout",
     "output_type": "stream",
     "text": [
      "1\n",
      "2\n",
      "4\n",
      "5\n"
     ]
    }
   ],
   "source": [
    "for i in range (7): \n",
    "    if i%3 == 0: \n",
    "        continue\n",
    "    else :\n",
    "        print(i)"
   ]
  },
  {
   "cell_type": "code",
   "execution_count": 39,
   "id": "c1d99c18",
   "metadata": {},
   "outputs": [
    {
     "name": "stdout",
     "output_type": "stream",
     "text": [
      "donner un entier12\n",
      "*************\n",
      "************\n",
      "***********\n",
      "**********\n",
      "*********\n",
      "********\n",
      "*******\n",
      "******\n",
      "*****\n",
      "****\n",
      "***\n",
      "**\n",
      "*\n"
     ]
    }
   ],
   "source": [
    "n= int(input(\"donner un entier\"))\n",
    "for  j in range(n+1): \n",
    "    print((n+1-j)* \"*\")\n",
    "        "
   ]
  },
  {
   "cell_type": "code",
   "execution_count": 44,
   "id": "3af2a823",
   "metadata": {},
   "outputs": [
    {
     "name": "stdout",
     "output_type": "stream",
     "text": [
      "donner un entierhello\n",
      "'h','e','l','l','o',"
     ]
    }
   ],
   "source": [
    "spl_str = input(\"donner un entier\")\n",
    "res = list(spl_str) \n",
    "for i in res: \n",
    "    print(\"'{}',\".format(i),end=\"\")"
   ]
  },
  {
   "cell_type": "code",
   "execution_count": 3,
   "id": "840cd214",
   "metadata": {},
   "outputs": [
    {
     "name": "stdout",
     "output_type": "stream",
     "text": [
      "donner un entierhhhh5\n",
      "is chars is 4, of digits is 1 , od symbols is 0\n"
     ]
    }
   ],
   "source": [
    "spl_str = input(\"donner un entier\")\n",
    "is_alpha= 0\n",
    "is_num= 0\n",
    "is_sym= 0\n",
    "for i in spl_str : \n",
    "    if((i.isupper() or  i.lower()) and i.isnumeric()==False ):\n",
    "        is_alpha+=1\n",
    "    elif(int(i) in [j for j in range(10)]): \n",
    "        is_num+=1\n",
    "    else: \n",
    "        is_sym+=1\n",
    "        \n",
    "print(\"is chars is {}, of digits is {} , od symbols is {}\".format(is_alpha,is_num,is_sym) )         "
   ]
  },
  {
   "cell_type": "code",
   "execution_count": 9,
   "id": "13c04f62",
   "metadata": {},
   "outputs": [
    {
     "name": "stdout",
     "output_type": "stream",
     "text": [
      "donner un entier !! :  5\n",
      "*****\n",
      "****\n",
      "***\n",
      "**\n",
      "*\n"
     ]
    }
   ],
   "source": [
    "n  = int(input(\"donner un entier !! :  \"))\n",
    "for i in range(n,0,-1): \n",
    "    print(i*\"*\")"
   ]
  },
  {
   "cell_type": "code",
   "execution_count": 1,
   "id": "365d0ae6",
   "metadata": {},
   "outputs": [
    {
     "name": "stdout",
     "output_type": "stream",
     "text": [
      "donner un entier 7\n",
      "****\n",
      "******* \n",
      "*****  \n",
      "***   \n",
      "*"
     ]
    }
   ],
   "source": [
    "import math\n",
    "n =  int(input(\"donner un entier \"))\n",
    "for i  in range((math.floor(n/2))+1): \n",
    "    tek = math.floor(n/2+1)-i\n",
    "    print(tek*\"*\", end='') \n",
    "    print((math.floor(n/2+1)-tek)*\" \")\n",
    "    print(tek*\"*\", end='') "
   ]
  },
  {
   "cell_type": "code",
   "execution_count": 17,
   "id": "3ebbf6db",
   "metadata": {},
   "outputs": [
    {
     "name": "stdout",
     "output_type": "stream",
     "text": [
      "donner un entier : 5\n",
      "*****\n",
      "conbien de ligne :  3\n",
      "1\n",
      "2\n",
      "3\n"
     ]
    }
   ],
   "source": [
    "n =  int(input(\"donner un entier : \")) \n",
    "n_f =  int(n/2)+1  \n",
    "print(\"conbien de ligne : \",n_f) \n",
    "print(\"*\"*n)\n",
    "for  i in range(2,n_f+1): \n",
    "    print(i-2+2)\n",
    "    "
   ]
  },
  {
   "cell_type": "code",
   "execution_count": 4,
   "id": "866384e3",
   "metadata": {},
   "outputs": [
    {
     "name": "stdout",
     "output_type": "stream",
     "text": [
      "****\n",
      "*** \n",
      "**  \n",
      "*   \n"
     ]
    }
   ],
   "source": [
    "for i in range(4): \n",
    "    print(\"*\"* (4-i), end=\"\") \n",
    "    print(\" \"*i)"
   ]
  },
  {
   "cell_type": "code",
   "execution_count": 5,
   "id": "85f3e25a",
   "metadata": {},
   "outputs": [
    {
     "name": "stdout",
     "output_type": "stream",
     "text": [
      "****\n",
      "****\n",
      "****\n",
      "****\n"
     ]
    }
   ],
   "source": [
    "for i in range (4): \n",
    "    print(\"*\"*4)\n",
    "    "
   ]
  },
  {
   "cell_type": "code",
   "execution_count": 8,
   "id": "58462643",
   "metadata": {},
   "outputs": [
    {
     "name": "stdout",
     "output_type": "stream",
     "text": [
      "----\n",
      "---*\n",
      "--**\n",
      "-***\n"
     ]
    }
   ],
   "source": [
    "for i in range(4): \n",
    "    print(\"-\"* (4-i), end=\"\") \n",
    "    print(\"*\"*i)"
   ]
  },
  {
   "cell_type": "code",
   "execution_count": 15,
   "id": "747752c2",
   "metadata": {},
   "outputs": [
    {
     "name": "stdout",
     "output_type": "stream",
     "text": [
      "*****\n",
      "  *   \n",
      "  *   \n",
      "  *   \n"
     ]
    }
   ],
   "source": [
    "for  i in range(4):  \n",
    "    if(i==0): \n",
    "        print(5*'*')\n",
    "    if(i>=1): \n",
    "        print(\" \"*1,\"*\",\" \"*2)"
   ]
  },
  {
   "cell_type": "code",
   "execution_count": null,
   "id": "724898a7",
   "metadata": {},
   "outputs": [],
   "source": []
  }
 ],
 "metadata": {
  "kernelspec": {
   "display_name": "Python 3",
   "language": "python",
   "name": "python3"
  },
  "language_info": {
   "codemirror_mode": {
    "name": "ipython",
    "version": 3
   },
   "file_extension": ".py",
   "mimetype": "text/x-python",
   "name": "python",
   "nbconvert_exporter": "python",
   "pygments_lexer": "ipython3",
   "version": "3.8.8"
  }
 },
 "nbformat": 4,
 "nbformat_minor": 5
}

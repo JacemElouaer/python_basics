{
 "cells": [
  {
   "cell_type": "markdown",
   "id": "7668ec24",
   "metadata": {},
   "source": [
    "#### Type of variables \n",
    "1. integer ==> int   : natural  integers (1,2,3-5,-12 ..) \n",
    "1. string  ==> str   : string of characters (\"neoirbnioerb\",  'reopbienribn') \n",
    "1. float   ==> float : real (1.2,-21.2 ...) \n",
    "#### What is a variable \n",
    "1. Variables are data values that can change when the user is asked a question\n",
    "1. A variable is a memory location. It has a name that is associated with that location. The memory location is used to hold data\n",
    "1. they are case sensitive \n",
    "1. there is some best practice in writing variable name  \n",
    "#### How ask for variables  input statement \n"
   ]
  },
  {
   "cell_type": "code",
   "execution_count": 16,
   "id": "bcdc4f49",
   "metadata": {},
   "outputs": [
    {
     "name": "stdout",
     "output_type": "stream",
     "text": [
      "the type of 12 is <class 'int'>\n",
      "the type of 12 is <class 'str'>\n",
      "the type of 12.0 is <class 'float'>\n",
      "the type of True is <class 'bool'>\n",
      "True\n",
      "an exeption occured\n"
     ]
    }
   ],
   "source": [
    "i = 12 \n",
    "s = \"12\" \n",
    "f = 12.0 \n",
    "b = True  \n",
    "\n",
    "print(\"the type of {} is {}\".format(i,type(i)))\n",
    "print(\"the type of {} is {}\".format(s,type(s)))\n",
    "print(\"the type of {} is {}\".format(f,type(f))) \n",
    "print(\"the type of {} is {}\".format(b,type(b)))\n",
    "try:\n",
    "    o =i+s \n",
    "    print(o)\n",
    "except:  \n",
    "    print(\"an exeption occured\")"
   ]
  },
  {
   "cell_type": "code",
   "execution_count": 39,
   "id": "0a56cc25",
   "metadata": {},
   "outputs": [
    {
     "name": "stdout",
     "output_type": "stream",
     "text": [
      "donner numero5\n",
      "5\n",
      "<class 'str'>\n"
     ]
    },
    {
     "ename": "TypeError",
     "evalue": "can only concatenate str (not \"int\") to str",
     "output_type": "error",
     "traceback": [
      "\u001b[1;31m---------------------------------------------------------------------------\u001b[0m",
      "\u001b[1;31mTypeError\u001b[0m                                 Traceback (most recent call last)",
      "\u001b[1;32m<ipython-input-39-7448b714287b>\u001b[0m in \u001b[0;36m<module>\u001b[1;34m\u001b[0m\n\u001b[0;32m      2\u001b[0m \u001b[0mprint\u001b[0m\u001b[1;33m(\u001b[0m\u001b[0mp\u001b[0m\u001b[1;33m)\u001b[0m\u001b[1;33m\u001b[0m\u001b[1;33m\u001b[0m\u001b[0m\n\u001b[0;32m      3\u001b[0m \u001b[0mprint\u001b[0m\u001b[1;33m(\u001b[0m\u001b[0mtype\u001b[0m\u001b[1;33m(\u001b[0m\u001b[0mp\u001b[0m\u001b[1;33m)\u001b[0m\u001b[1;33m)\u001b[0m\u001b[1;33m\u001b[0m\u001b[1;33m\u001b[0m\u001b[0m\n\u001b[1;32m----> 4\u001b[1;33m \u001b[0mprint\u001b[0m\u001b[1;33m(\u001b[0m\u001b[0mp\u001b[0m\u001b[1;33m+\u001b[0m\u001b[1;36m5\u001b[0m\u001b[1;33m)\u001b[0m\u001b[1;33m\u001b[0m\u001b[1;33m\u001b[0m\u001b[0m\n\u001b[0m",
      "\u001b[1;31mTypeError\u001b[0m: can only concatenate str (not \"int\") to str"
     ]
    }
   ],
   "source": [
    "p = input(\"donner numero\")\n",
    "if()\n",
    "print(type(p))\n",
    "print(p+5)"
   ]
  },
  {
   "cell_type": "code",
   "execution_count": 56,
   "id": "c3abbf78",
   "metadata": {},
   "outputs": [
    {
     "name": "stdout",
     "output_type": "stream",
     "text": [
      "maynajemch\n"
     ]
    }
   ],
   "source": [
    "cafe=0\n",
    "if(cafe==0 and ): \n",
    "    print(\"maynajemch\")\n",
    "    \n",
    "else: \n",
    "    print(\"ynajm\")\n",
    "    "
   ]
  },
  {
   "cell_type": "code",
   "execution_count": 59,
   "id": "adb991f8",
   "metadata": {},
   "outputs": [
    {
     "name": "stdout",
     "output_type": "stream",
     "text": [
      "achrab\n"
     ]
    }
   ],
   "source": [
    "cafe1 = 5 \n",
    "cafe2= 0 \n",
    "if ( cafe1>0 or cafe2>0):\n",
    "    print(\"achrab\")"
   ]
  },
  {
   "cell_type": "code",
   "execution_count": null,
   "id": "76803c7a",
   "metadata": {},
   "outputs": [],
   "source": []
  },
  {
   "cell_type": "code",
   "execution_count": null,
   "id": "cd6d6225",
   "metadata": {},
   "outputs": [],
   "source": [
    "# != , == , >= , <= , ===  (etc) \n",
    "# * , / , ** , - , + , % (etc) "
   ]
  },
  {
   "cell_type": "code",
   "execution_count": 36,
   "id": "e21e3895",
   "metadata": {},
   "outputs": [
    {
     "name": "stdout",
     "output_type": "stream",
     "text": [
      "35\n",
      "300\n",
      "-5\n",
      "0.75\n",
      "1.0\n"
     ]
    }
   ],
   "source": [
    "#going farther with integer \n",
    "int_1 = 15  \n",
    "int_2 = 20\n",
    "int_3 = 15\n",
    "print(int_1+int_2)\n",
    "print(int_1*int_2)\n",
    "print(int_1-int_2)\n",
    "float_1 =int_1/int_2 \n",
    "print(float_1) \n",
    "float_1 =int_1/int_3\n",
    "print(float_1) \n",
    "print(int_1>int_2)"
   ]
  },
  {
   "cell_type": "code",
   "execution_count": 51,
   "id": "e0ca9edb",
   "metadata": {},
   "outputs": [
    {
     "name": "stdout",
     "output_type": "stream",
     "text": [
      "<class 'float'>\n",
      "1\n",
      "1\n",
      "<class 'int'>\n",
      "***********************\n",
      "1.0\n",
      "1.0\n"
     ]
    }
   ],
   "source": [
    "#every integer can be float and the opposite is false \n",
    "float_1 = float(int_1) \n",
    "print(type(float_1)) \n",
    "float_1 = 1.25 \n",
    "print(int(float_1))\n",
    "print(round(float_1))\n",
    "print(type(round(float_1)))  \n",
    "\n",
    "print(\"***********************\")\n",
    "\n",
    "#multipliying int with float result float suppstraction also \n",
    "#this provide us with other method to change from  int to float  \n",
    "\n",
    "print(1*1.0) \n",
    "print(1/1.0)\n"
   ]
  },
  {
   "cell_type": "code",
   "execution_count": 71,
   "id": "50ae050c",
   "metadata": {
    "scrolled": true
   },
   "outputs": [
    {
     "name": "stdout",
     "output_type": "stream",
     "text": [
      "first one  : h\n",
      "last one   : e\n",
      "hello\n",
      "hello\n",
      "there\n",
      "there\n",
      "eh\n",
      "ereht olleh\n",
      "hello therehello there\n"
     ]
    }
   ],
   "source": [
    "#string are like list fisrt element has the index of 0 \n",
    "s_1 = \"hello there\" \n",
    "\n",
    "print(\"first one  :\",s_1[0])\n",
    "print(\"last one   :\",s_1[-1])  \n",
    "print(s_1[0:5])\n",
    "print(s_1[:5]) \n",
    "print(s_1[6:11]) \n",
    "print(s_1[6:])  \n",
    "print(s_1[1::6]) \n",
    "print(s_1[::-1])\n",
    "print(s_1*2)"
   ]
  },
  {
   "cell_type": "code",
   "execution_count": 87,
   "id": "fd6f7c36",
   "metadata": {},
   "outputs": [
    {
     "name": "stdout",
     "output_type": "stream",
     "text": [
      "16\n"
     ]
    }
   ],
   "source": [
    "s= \"hello my name is folen my age is 15\" \n",
    "index_is = s.find(\"is\") \n",
    "raw_name =  s[index_is+3:]\n",
    "index  = raw_name.find(\"is\")+3\n",
    "print(index)"
   ]
  },
  {
   "cell_type": "code",
   "execution_count": 89,
   "id": "b1bf4183",
   "metadata": {},
   "outputs": [
    {
     "name": "stdout",
     "output_type": "stream",
     "text": [
      "False\n",
      "False\n",
      "True\n",
      "False\n",
      "True\n",
      "False\n",
      "False\n",
      "True\n"
     ]
    }
   ],
   "source": [
    "#  basic condition with string => isalpha ,  isalnum ,  islittle ,  isdigits , islower,  isupper ,  startswith , endswith \n",
    "s1 = \"hello  there\" \n",
    "print(s1.isalpha())\n",
    "print(s1.isalnum())\n",
    "print(s1.islower())\n",
    "print(s1.isupper())\n",
    "print(s1.upper().isupper())\n",
    "print(s1.startswith('P'))\n",
    "print(s1.endswith('e')) \n",
    "print(\"h\" in s1) "
   ]
  },
  {
   "cell_type": "code",
   "execution_count": 90,
   "id": "7b358159",
   "metadata": {},
   "outputs": [
    {
     "name": "stdout",
     "output_type": "stream",
     "text": [
      "Testing functions\n",
      "testing functions\n",
      "TESTING FUNCTIONS\n",
      "TESTING FUNCTIONS\n",
      "0\n",
      "3\n",
      "test functions\n",
      "functions\n",
      "['testing', 'functions']\n",
      "['testi', 'g fu', 'ctio', 's']\n",
      "17\n"
     ]
    }
   ],
   "source": [
    "# capitalize , lower , upper ,  swapcase ,title , find , count ,  replace ,  remove , split\n",
    "s1 = \"testing functions\" \n",
    "print(s1.capitalize())\n",
    "print(s1.lower())\n",
    "print(s1.upper())\n",
    "print(s1.swapcase())\n",
    "print(s1.find(\"t\"))\n",
    "print(s1.count(\"t\"))\n",
    "print(s1.replace(\"testing\",\"test\"))\n",
    "print(s1.replace(\"testing \",\"\"))\n",
    "print(s1.split())\n",
    "print(s1.split(\"n\"))\n",
    "print(len(s1)) \n"
   ]
  },
  {
   "cell_type": "code",
   "execution_count": 32,
   "id": "3a540c86",
   "metadata": {},
   "outputs": [
    {
     "name": "stdout",
     "output_type": "stream",
     "text": [
      "1 =>  True\n",
      "0 =>  False\n",
      "-2 => True\n",
      "True\n",
      "False\n"
     ]
    }
   ],
   "source": [
    "print (1,\"=> \",bool(1))\n",
    "print (0,\"=> \",bool(0))\n",
    "print (-2,\"=>\",bool(-2)) \n",
    "#any result of if statement is a bool variable \n",
    "print(1==1) \n",
    "print(1!=1)  "
   ]
  },
  {
   "cell_type": "code",
   "execution_count": 6,
   "id": "e4788de7",
   "metadata": {},
   "outputs": [
    {
     "name": "stdout",
     "output_type": "stream",
     "text": [
      "15\n",
      "20.1\n",
      "hello\n"
     ]
    }
   ],
   "source": [
    "p = 15 \n",
    "print(p)\n",
    "p=20.1\n",
    "print(p)\n",
    "p=\"hello\" \n",
    "print(p) "
   ]
  },
  {
   "cell_type": "code",
   "execution_count": 104,
   "id": "18acdc5f",
   "metadata": {},
   "outputs": [
    {
     "name": "stdout",
     "output_type": "stream",
     "text": [
      "True\n",
      "True\n",
      "True\n"
     ]
    }
   ],
   "source": [
    "print(isinstance(i,int))\n",
    "print(isinstance(s,str)) \n",
    "print(isinstance(i,int))"
   ]
  },
  {
   "cell_type": "code",
   "execution_count": 118,
   "id": "07fb89f0",
   "metadata": {},
   "outputs": [
    {
     "name": "stdout",
     "output_type": "stream",
     "text": [
      "True\n"
     ]
    }
   ],
   "source": [
    "class client: \n",
    "    def __init__(slef,number): \n",
    "        number =  self.number \n",
    "o = client  \n",
    "print(isinstance(o,type)) "
   ]
  },
  {
   "cell_type": "markdown",
   "id": "94d51230",
   "metadata": {},
   "source": [
    "#### consdition and loops \n",
    "1. conditions are statement that allow us to build constraction based on some conditions \n",
    "1. loops are the synonym of iteration in programming allow you to repeat the constraction "
   ]
  },
  {
   "cell_type": "code",
   "execution_count": 1,
   "id": "1de33cc4",
   "metadata": {},
   "outputs": [
    {
     "name": "stdout",
     "output_type": "stream",
     "text": [
      "15\n"
     ]
    }
   ],
   "source": [
    "# there is no switch in python \n",
    "# if is present in every peace of code \n",
    "# if condition :  statements  \n",
    "# we can use if -- else or if -- elif \n",
    "if(5==6): \n",
    "    print(5)\n",
    "else : \n",
    "    print(15)\n",
    "\n",
    "\n"
   ]
  },
  {
   "cell_type": "markdown",
   "id": "02324f13",
   "metadata": {},
   "source": [
    "#### Python Data Type: String - Exercises, Practice, Solution  \n",
    "1. url ==> https://www.w3resource.com/python-exercises/string/\n",
    "1. exercice (1,3,8,9,10)"
   ]
  },
  {
   "cell_type": "code",
   "execution_count": 3,
   "id": "e0f604f4",
   "metadata": {},
   "outputs": [],
   "source": [
    "#print(len('hello there'))"
   ]
  },
  {
   "cell_type": "code",
   "execution_count": 8,
   "id": "9380b6b7",
   "metadata": {},
   "outputs": [
    {
     "data": {
      "text/plain": [
       "'print(s[:4]) \\nprint(s[:2]) \\nprint(s[:2]*2) \\nprint(s[0]) '"
      ]
     },
     "execution_count": 8,
     "metadata": {},
     "output_type": "execute_result"
    }
   ],
   "source": [
    "s= \"w3resource\" \n",
    "\"\"\"print(s[:4]) \n",
    "print(s[:2]) \n",
    "print(s[:2]*2) \n",
    "print(s[0]) \"\"\""
   ]
  },
  {
   "cell_type": "code",
   "execution_count": 22,
   "id": "51ef0fd4",
   "metadata": {},
   "outputs": [
    {
     "name": "stdout",
     "output_type": "stream",
     "text": [
      "14 23\n",
      "The lyrics is good!\n",
      "The lyrics is good!\n"
     ]
    }
   ],
   "source": [
    "s= \"The lyrics is not that poor!\" \n",
    "index_not,index_poor=  s.find('not') , s.find('poor') \n",
    "print(index_not ,index_poor)  \n",
    "if(index_not<index_poor):\n",
    "    print(s.replace(s[14:27] , 'good'))  "
   ]
  },
  {
   "cell_type": "code",
   "execution_count": 27,
   "id": "3e5ff895",
   "metadata": {},
   "outputs": [
    {
     "data": {
      "text/plain": [
       "'vneorineriobnoiern'"
      ]
     },
     "execution_count": 27,
     "metadata": {},
     "output_type": "execute_result"
    }
   ],
   "source": [
    "liste_word = [\"nviern\",'nvioenrib','nbioenrb',\"vneorineriobnoiern\"] \n",
    "liste_len  = [len(i) for i in liste_word] \n",
    "index_max  =  liste_len.index(max(liste_len)) \n",
    "liste_word[index_max]"
   ]
  },
  {
   "cell_type": "code",
   "execution_count": 30,
   "id": "f5e959a2",
   "metadata": {},
   "outputs": [
    {
     "name": "stdout",
     "output_type": "stream",
     "text": [
      "donner l index a supprimer 5\n",
      "The lrics is not that poor!\n"
     ]
    }
   ],
   "source": [
    "s= \"The lyrics is not that poor!\" \n",
    "index_s = int(input(\"donner l index a supprimer \")  )\n",
    "print(s[:index_s]+s[index_s+1:])"
   ]
  },
  {
   "cell_type": "code",
   "execution_count": 39,
   "id": "23e7487a",
   "metadata": {},
   "outputs": [
    {
     "name": "stdout",
     "output_type": "stream",
     "text": [
      "!he lyrics is not that pooT\n"
     ]
    }
   ],
   "source": [
    "s = \"The lyrics is not that poor!\"  \n",
    "p = s[-1]+s[1:-2]+s[0] \n",
    "print(p)"
   ]
  },
  {
   "cell_type": "code",
   "execution_count": null,
   "id": "df1fa4f3",
   "metadata": {},
   "outputs": [],
   "source": []
  }
 ],
 "metadata": {
  "kernelspec": {
   "display_name": "Python 3",
   "language": "python",
   "name": "python3"
  },
  "language_info": {
   "codemirror_mode": {
    "name": "ipython",
    "version": 3
   },
   "file_extension": ".py",
   "mimetype": "text/x-python",
   "name": "python",
   "nbconvert_exporter": "python",
   "pygments_lexer": "ipython3",
   "version": "3.8.8"
  }
 },
 "nbformat": 4,
 "nbformat_minor": 5
}
